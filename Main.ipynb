{
 "cells": [
  {
   "cell_type": "code",
   "execution_count": 2,
   "id": "later-separation",
   "metadata": {},
   "outputs": [],
   "source": [
    "import io\n",
    "import os\n",
    "import telebot\n",
    "import numpy as np\n",
    "from PIL import Image, ImageDraw , ImageFont\n",
    "from tensorflow.keras.preprocessing.image import ImageDataGenerator\n",
    "import tensorflow.keras as keras"
   ]
  },
  {
   "cell_type": "code",
   "execution_count": 4,
   "id": "opposite-honor",
   "metadata": {},
   "outputs": [],
   "source": [
    "board = Image.open('img/b.jpg')\n",
    "survived = Image.open('img/survived.jpeg')\n",
    "model = keras.models.load_model(\"model.h5\")\n",
    "train_datagen = ImageDataGenerator(horizontal_flip=True,\n",
    "                                   vertical_flip=False,\n",
    "                                   rescale=1./255,\n",
    "                                   )"
   ]
  },
  {
   "cell_type": "code",
   "execution_count": 5,
   "id": "historic-missouri",
   "metadata": {},
   "outputs": [],
   "source": [
    "def pillow_to_bytes(pillow: Image):\n",
    "    byte = io.BytesIO()\n",
    "    pillow.save(byte, format=pillow.format)\n",
    "    byte = byte.getvalue()\n",
    "    return byte\n",
    "\n",
    "def bytes_to_pillow(byte: bytes):\n",
    "    pillow = Image.open(io.BytesIO(byte))\n",
    "    return pillow\n",
    "\n",
    "def sizing(img: Image, povtorka:bool):\n",
    "    img_width, img_height = img.size\n",
    "    if povtorka:\n",
    "        b_width, b_height = board.size\n",
    "        return img_width/ (b_width/2) , img_height/ (b_height/2)\n",
    "    else:\n",
    "        s_width, s_height = survived.size\n",
    "        return img_width/ (s_width/2) , img_height/ (s_height/1.5)\n",
    "\n",
    "def verdict(img: Image, povtorka:bool):\n",
    "    if povtorka:\n",
    "        width, height = img.size\n",
    "        k1,k2 = sizing(img,povtorka)\n",
    "        img = img.resize((int(width/k1), int(height/k2)))\n",
    "        board.paste(img,(125,150))\n",
    "        return board\n",
    "    else:\n",
    "        width, height = img.size \n",
    "        k1,k2 = sizing(img,povtorka)\n",
    "        img = img.resize((int(width/k1), int(height/k2)))\n",
    "        survived.paste(img,(200,130))\n",
    "        return survived"
   ]
  },
  {
   "cell_type": "code",
   "execution_count": 4,
   "id": "divided-consistency",
   "metadata": {},
   "outputs": [],
   "source": []
  },
  {
   "cell_type": "code",
   "execution_count": 17,
   "id": "immune-encyclopedia",
   "metadata": {},
   "outputs": [
    {
     "data": {
      "text/plain": [
       "bytes"
      ]
     },
     "execution_count": 17,
     "metadata": {},
     "output_type": "execute_result"
    }
   ],
   "source": [
    "downloaded_file = pillow_to_bytes(Image.open(\"dataset2/povtorka/real_00001.jpg\"))\n",
    "type(downloaded_file)"
   ]
  },
  {
   "cell_type": "code",
   "execution_count": 18,
   "id": "afraid-individual",
   "metadata": {},
   "outputs": [],
   "source": [
    "with open(\"Test/image.jpg\", 'wb') as new_file:\n",
    "        new_file.write(downloaded_file)"
   ]
  },
  {
   "cell_type": "code",
   "execution_count": 22,
   "id": "caroline-supplier",
   "metadata": {},
   "outputs": [
    {
     "name": "stdout",
     "output_type": "stream",
     "text": [
      "Found 1 images belonging to 2 classes.\n"
     ]
    }
   ],
   "source": [
    "test_path = \"Test\"\n",
    "test = train_datagen.flow_from_directory(test_path,\n",
    "                                          class_mode=\"binary\",\n",
    "                                          target_size=(96, 96),\n",
    "                                          batch_size=32)"
   ]
  },
  {
   "cell_type": "code",
   "execution_count": 29,
   "id": "welcome-demand",
   "metadata": {},
   "outputs": [
    {
     "data": {
      "text/plain": [
       "1"
      ]
     },
     "execution_count": 29,
     "metadata": {},
     "output_type": "execute_result"
    }
   ],
   "source": [
    "predict = model.predict(test)\n",
    "pred = np.argmax(model.predict(test), axis = 1)[0]\n",
    "pred"
   ]
  },
  {
   "cell_type": "code",
   "execution_count": 28,
   "id": "marked-briefs",
   "metadata": {},
   "outputs": [
    {
     "data": {
      "text/plain": [
       "bytes"
      ]
     },
     "execution_count": 28,
     "metadata": {},
     "output_type": "execute_result"
    }
   ],
   "source": [
    "res = pillow_to_bytes(verdict(bytes_to_pillow(downloaded_file), pred))\n",
    "type(res)"
   ]
  }
 ],
 "metadata": {
  "kernelspec": {
   "display_name": "Python 3",
   "language": "python",
   "name": "python3"
  },
  "language_info": {
   "codemirror_mode": {
    "name": "ipython",
    "version": 3
   },
   "file_extension": ".py",
   "mimetype": "text/x-python",
   "name": "python",
   "nbconvert_exporter": "python",
   "pygments_lexer": "ipython3",
   "version": "3.8.3"
  }
 },
 "nbformat": 4,
 "nbformat_minor": 5
}
