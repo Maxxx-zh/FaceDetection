{
 "cells": [
  {
   "cell_type": "code",
   "execution_count": 1,
   "metadata": {},
   "outputs": [
    {
     "name": "stdout",
     "output_type": "stream",
     "text": [
      "['home', 'usr', 'bin', 'sbin', '.file', 'etc', 'var', 'Library', 'System', '.VolumeIcon.icns', 'private', '.vol', 'Users', 'Applications', 'opt', 'dev', 'Volumes', 'tmp', 'cores']\n"
     ]
    }
   ],
   "source": [
    "from tensorflow.keras.preprocessing.image import ImageDataGenerator\n",
    "from tensorflow.keras.layers import GlobalAveragePooling2D\n",
    "from tensorflow.keras.layers import BatchNormalization\n",
    "from tensorflow.keras.applications import MobileNetV2\n",
    "from tensorflow.keras.optimizers import Adam\n",
    "from tensorflow.keras.layers import Dropout\n",
    "from tensorflow.keras.layers import Dense\n",
    "from tensorflow.keras import Sequential\n",
    "import matplotlib.pyplot as plt\n",
    "import tensorflow as tf\n",
    "import numpy as np\n",
    "import cv2\n",
    "import os\n",
    "import tensorflow.keras as keras\n",
    "\n",
    "print(os.listdir(\"/\"))"
   ]
  },
  {
   "cell_type": "code",
   "execution_count": 2,
   "metadata": {},
   "outputs": [],
   "source": [
    "#import sys\n",
    "#!{sys.executable} -m pip install opencv-python"
   ]
  },
  {
   "cell_type": "code",
   "execution_count": 3,
   "metadata": {},
   "outputs": [],
   "source": [
    "povtorka = \"/Users/Andrew/Downloads/dataset/povtorka/\"\n",
    "ne_povtorka = \"/Users/Andrew/Downloads/dataset/ne_povtorka\"\n"
   ]
  },
  {
   "cell_type": "code",
   "execution_count": 4,
   "metadata": {},
   "outputs": [],
   "source": [
    "povtorka_path = os.listdir(povtorka)\n",
    "ne_povtorka_path = os.listdir(ne_povtorka)"
   ]
  },
  {
   "cell_type": "code",
   "execution_count": 5,
   "metadata": {},
   "outputs": [],
   "source": [
    "def load_img(path):\n",
    "    image = cv2.imread(path)\n",
    "    image = cv2.resize(image, (224, 224))\n",
    "    return image[...,::-1]"
   ]
  },
  {
   "cell_type": "code",
   "execution_count": 1,
   "metadata": {},
   "outputs": [
    {
     "ename": "NameError",
     "evalue": "name 'plt' is not defined",
     "output_type": "error",
     "traceback": [
      "\u001b[0;31m---------------------------------------------------------------------------\u001b[0m",
      "\u001b[0;31mNameError\u001b[0m                                 Traceback (most recent call last)",
      "\u001b[0;32m<ipython-input-1-e61832a45eec>\u001b[0m in \u001b[0;36m<module>\u001b[0;34m\u001b[0m\n\u001b[0;32m----> 1\u001b[0;31m \u001b[0mfig\u001b[0m \u001b[0;34m=\u001b[0m \u001b[0mplt\u001b[0m\u001b[0;34m.\u001b[0m\u001b[0mfigure\u001b[0m\u001b[0;34m(\u001b[0m\u001b[0mfigsize\u001b[0m\u001b[0;34m=\u001b[0m\u001b[0;34m(\u001b[0m\u001b[0;36m12\u001b[0m\u001b[0;34m,\u001b[0m \u001b[0;36m12\u001b[0m\u001b[0;34m)\u001b[0m\u001b[0;34m)\u001b[0m\u001b[0;34m\u001b[0m\u001b[0;34m\u001b[0m\u001b[0m\n\u001b[0m\u001b[1;32m      2\u001b[0m \u001b[0;34m\u001b[0m\u001b[0m\n\u001b[1;32m      3\u001b[0m \u001b[0;32mfor\u001b[0m \u001b[0mi\u001b[0m \u001b[0;32min\u001b[0m \u001b[0mrange\u001b[0m\u001b[0;34m(\u001b[0m\u001b[0;36m1\u001b[0m\u001b[0;34m)\u001b[0m\u001b[0;34m:\u001b[0m\u001b[0;34m\u001b[0m\u001b[0;34m\u001b[0m\u001b[0m\n\u001b[1;32m      4\u001b[0m     \u001b[0mplt\u001b[0m\u001b[0;34m.\u001b[0m\u001b[0msubplot\u001b[0m\u001b[0;34m(\u001b[0m\u001b[0;36m1\u001b[0m\u001b[0;34m,\u001b[0m \u001b[0;36m1\u001b[0m\u001b[0;34m,\u001b[0m \u001b[0mi\u001b[0m\u001b[0;34m+\u001b[0m\u001b[0;36m1\u001b[0m\u001b[0;34m)\u001b[0m\u001b[0;34m\u001b[0m\u001b[0;34m\u001b[0m\u001b[0m\n\u001b[1;32m      5\u001b[0m     \u001b[0mplt\u001b[0m\u001b[0;34m.\u001b[0m\u001b[0mimshow\u001b[0m\u001b[0;34m(\u001b[0m\u001b[0mload_img\u001b[0m\u001b[0;34m(\u001b[0m\u001b[0mpovtorka\u001b[0m \u001b[0;34m+\u001b[0m \u001b[0mpovtorka_path\u001b[0m\u001b[0;34m[\u001b[0m\u001b[0mi\u001b[0m\u001b[0;34m]\u001b[0m\u001b[0;34m)\u001b[0m\u001b[0;34m,\u001b[0m \u001b[0mcmap\u001b[0m\u001b[0;34m=\u001b[0m\u001b[0;34m'gray'\u001b[0m\u001b[0;34m)\u001b[0m\u001b[0;34m\u001b[0m\u001b[0;34m\u001b[0m\u001b[0m\n",
      "\u001b[0;31mNameError\u001b[0m: name 'plt' is not defined"
     ]
    }
   ],
   "source": [
    "fig = plt.figure(figsize=(12, 12))\n",
    "\n",
    "for i in range(1):\n",
    "    plt.subplot(1, 1, i+1)\n",
    "    plt.imshow(load_img(povtorka + povtorka_path[i]), cmap='gray')\n",
    "    plt.title(\"FACE\")\n",
    "    plt.axis('off')\n",
    "\n",
    "plt.show()"
   ]
  },
  {
   "cell_type": "code",
   "execution_count": 7,
   "metadata": {},
   "outputs": [],
   "source": [
    "train_datagen = ImageDataGenerator(horizontal_flip=True,\n",
    "                                   vertical_flip=False,\n",
    "                                   rescale=1./255,\n",
    "                                   )"
   ]
  },
  {
   "cell_type": "code",
   "execution_count": 8,
   "metadata": {},
   "outputs": [],
   "source": [
    "dataset_path = \"dataset2\""
   ]
  },
  {
   "cell_type": "code",
   "execution_count": 9,
   "metadata": {},
   "outputs": [
    {
     "name": "stdout",
     "output_type": "stream",
     "text": [
      "Found 553 images belonging to 2 classes.\n"
     ]
    }
   ],
   "source": [
    "train = train_datagen.flow_from_directory(dataset_path,\n",
    "                                          class_mode=\"binary\",\n",
    "                                          target_size=(96, 96),\n",
    "                                          batch_size=32)"
   ]
  },
  {
   "cell_type": "code",
   "execution_count": 10,
   "metadata": {},
   "outputs": [],
   "source": [
    "mobilenetV2 = MobileNetV2(input_shape=(96, 96, 3),\n",
    "                          include_top=False,\n",
    "                          weights='imagenet'\n",
    "                          )\n",
    "\n",
    "average_layer = GlobalAveragePooling2D()\n",
    "\n",
    "model = Sequential([\n",
    "    mobilenetV2,\n",
    "    average_layer,\n",
    "    Dense(256, activation=tf.nn.relu),\n",
    "    BatchNormalization(),\n",
    "    Dropout(0.2),\n",
    "    Dense(2, activation=tf.nn.softmax)\n",
    "])"
   ]
  },
  {
   "cell_type": "code",
   "execution_count": 11,
   "metadata": {},
   "outputs": [],
   "source": [
    "model.compile(optimizer=Adam(lr=0.001),\n",
    "              loss='sparse_categorical_crossentropy',\n",
    "              metrics=['accuracy'])"
   ]
  },
  {
   "cell_type": "code",
   "execution_count": 12,
   "metadata": {},
   "outputs": [],
   "source": [
    "def scheduler(epoch):\n",
    "    if epoch <= 2:\n",
    "        return 0.001\n",
    "    elif epoch > 2 and epoch <= 15:\n",
    "        return 0.0001 \n",
    "    else:\n",
    "        return 0.00001\n",
    "\n",
    "lr_callbacks = tf.keras.callbacks.LearningRateScheduler(scheduler)"
   ]
  },
  {
   "cell_type": "code",
   "execution_count": 13,
   "metadata": {},
   "outputs": [
    {
     "name": "stderr",
     "output_type": "stream",
     "text": [
      "/Users/Andrew/jupyter/anaconda3/lib/python3.8/site-packages/tensorflow/python/keras/engine/training.py:1844: UserWarning: `Model.fit_generator` is deprecated and will be removed in a future version. Please use `Model.fit`, which supports generators.\n",
      "  warnings.warn('`Model.fit_generator` is deprecated and '\n"
     ]
    },
    {
     "name": "stdout",
     "output_type": "stream",
     "text": [
      "Epoch 1/50\n",
      "18/18 [==============================] - 15s 587ms/step - loss: 1.0882 - accuracy: 0.5481\n",
      "Epoch 2/50\n",
      "18/18 [==============================] - 11s 571ms/step - loss: 0.6893 - accuracy: 0.6869\n",
      "Epoch 3/50\n",
      "18/18 [==============================] - 11s 593ms/step - loss: 0.4955 - accuracy: 0.7714\n",
      "Epoch 4/50\n",
      "18/18 [==============================] - 11s 590ms/step - loss: 0.3298 - accuracy: 0.8918\n",
      "Epoch 5/50\n",
      "18/18 [==============================] - 11s 621ms/step - loss: 0.3313 - accuracy: 0.8686\n",
      "Epoch 6/50\n",
      "18/18 [==============================] - 11s 593ms/step - loss: 0.2836 - accuracy: 0.9403\n",
      "Epoch 7/50\n",
      "18/18 [==============================] - 11s 600ms/step - loss: 0.2862 - accuracy: 0.9143\n",
      "Epoch 8/50\n",
      "18/18 [==============================] - 12s 667ms/step - loss: 0.2484 - accuracy: 0.9364\n",
      "Epoch 9/50\n",
      "18/18 [==============================] - 11s 584ms/step - loss: 0.2348 - accuracy: 0.9643\n",
      "Epoch 10/50\n",
      "18/18 [==============================] - 11s 567ms/step - loss: 0.2663 - accuracy: 0.9459\n",
      "Epoch 11/50\n",
      "18/18 [==============================] - 11s 604ms/step - loss: 0.2118 - accuracy: 0.9612\n",
      "Epoch 12/50\n",
      "18/18 [==============================] - 11s 615ms/step - loss: 0.2227 - accuracy: 0.9554\n",
      "Epoch 13/50\n",
      "18/18 [==============================] - 11s 587ms/step - loss: 0.2207 - accuracy: 0.9592\n",
      "Epoch 14/50\n",
      "18/18 [==============================] - 11s 618ms/step - loss: 0.2302 - accuracy: 0.9560\n",
      "Epoch 15/50\n",
      "18/18 [==============================] - 11s 586ms/step - loss: 0.1737 - accuracy: 0.9503\n",
      "Epoch 16/50\n",
      "18/18 [==============================] - 11s 586ms/step - loss: 0.1563 - accuracy: 0.9771\n",
      "Epoch 17/50\n",
      "18/18 [==============================] - 11s 584ms/step - loss: 0.1628 - accuracy: 0.9574\n",
      "Epoch 18/50\n",
      "18/18 [==============================] - 11s 583ms/step - loss: 0.2131 - accuracy: 0.9482\n",
      "Epoch 19/50\n",
      "18/18 [==============================] - 11s 577ms/step - loss: 0.1483 - accuracy: 0.9807\n",
      "Epoch 20/50\n",
      "18/18 [==============================] - 11s 596ms/step - loss: 0.1888 - accuracy: 0.9690\n",
      "Epoch 21/50\n",
      "18/18 [==============================] - 11s 587ms/step - loss: 0.1299 - accuracy: 0.9923\n",
      "Epoch 22/50\n",
      "18/18 [==============================] - 11s 607ms/step - loss: 0.1837 - accuracy: 0.9604\n",
      "Epoch 23/50\n",
      "18/18 [==============================] - 11s 591ms/step - loss: 0.1507 - accuracy: 0.9814\n",
      "Epoch 24/50\n",
      "18/18 [==============================] - 11s 606ms/step - loss: 0.2065 - accuracy: 0.9498\n",
      "Epoch 25/50\n",
      "18/18 [==============================] - 12s 644ms/step - loss: 0.1611 - accuracy: 0.9677\n",
      "Epoch 26/50\n",
      "18/18 [==============================] - 11s 576ms/step - loss: 0.1598 - accuracy: 0.9826\n",
      "Epoch 27/50\n",
      "18/18 [==============================] - 11s 588ms/step - loss: 0.1709 - accuracy: 0.9638\n",
      "Epoch 28/50\n",
      "18/18 [==============================] - 11s 589ms/step - loss: 0.1588 - accuracy: 0.9764\n",
      "Epoch 29/50\n",
      "18/18 [==============================] - 11s 606ms/step - loss: 0.1445 - accuracy: 0.9827\n",
      "Epoch 30/50\n",
      "18/18 [==============================] - 11s 580ms/step - loss: 0.1884 - accuracy: 0.9801\n",
      "Epoch 31/50\n",
      "18/18 [==============================] - 11s 587ms/step - loss: 0.1787 - accuracy: 0.9638\n",
      "Epoch 32/50\n",
      "18/18 [==============================] - 11s 591ms/step - loss: 0.1820 - accuracy: 0.9609\n",
      "Epoch 33/50\n",
      "18/18 [==============================] - 11s 617ms/step - loss: 0.1522 - accuracy: 0.9853\n",
      "Epoch 34/50\n",
      "18/18 [==============================] - 11s 608ms/step - loss: 0.1257 - accuracy: 0.9954\n",
      "Epoch 35/50\n",
      "18/18 [==============================] - 11s 605ms/step - loss: 0.1489 - accuracy: 0.9780\n",
      "Epoch 36/50\n",
      "18/18 [==============================] - 11s 599ms/step - loss: 0.1383 - accuracy: 0.9911\n",
      "Epoch 37/50\n",
      "18/18 [==============================] - 11s 598ms/step - loss: 0.1634 - accuracy: 0.9872\n",
      "Epoch 38/50\n",
      "18/18 [==============================] - 12s 638ms/step - loss: 0.1310 - accuracy: 0.9865\n",
      "Epoch 39/50\n",
      "18/18 [==============================] - 12s 618ms/step - loss: 0.1297 - accuracy: 0.9870\n",
      "Epoch 40/50\n",
      "18/18 [==============================] - 11s 603ms/step - loss: 0.1504 - accuracy: 0.9791\n",
      "Epoch 41/50\n",
      "18/18 [==============================] - 11s 597ms/step - loss: 0.1382 - accuracy: 0.9864\n",
      "Epoch 42/50\n",
      "18/18 [==============================] - 11s 585ms/step - loss: 0.1220 - accuracy: 0.9896\n",
      "Epoch 43/50\n",
      "18/18 [==============================] - 11s 581ms/step - loss: 0.1421 - accuracy: 0.9736\n",
      "Epoch 44/50\n",
      "18/18 [==============================] - 11s 590ms/step - loss: 0.1356 - accuracy: 0.9904\n",
      "Epoch 45/50\n",
      "18/18 [==============================] - 11s 621ms/step - loss: 0.1571 - accuracy: 0.9776\n",
      "Epoch 46/50\n",
      "18/18 [==============================] - 11s 569ms/step - loss: 0.1618 - accuracy: 0.9666\n",
      "Epoch 47/50\n",
      "18/18 [==============================] - 11s 567ms/step - loss: 0.1343 - accuracy: 0.9913\n",
      "Epoch 48/50\n",
      "18/18 [==============================] - 10s 566ms/step - loss: 0.1676 - accuracy: 0.9708\n",
      "Epoch 49/50\n",
      "18/18 [==============================] - 11s 589ms/step - loss: 0.1454 - accuracy: 0.9853\n",
      "Epoch 50/50\n",
      "18/18 [==============================] - 12s 629ms/step - loss: 0.1501 - accuracy: 0.9856\n"
     ]
    },
    {
     "data": {
      "text/plain": [
       "<tensorflow.python.keras.callbacks.History at 0x7ff77670f2e0>"
      ]
     },
     "execution_count": 13,
     "metadata": {},
     "output_type": "execute_result"
    }
   ],
   "source": [
    "model.fit_generator(train,\n",
    "                    epochs=50,\n",
    "                    callbacks=[lr_callbacks])"
   ]
  },
  {
   "cell_type": "code",
   "execution_count": 14,
   "metadata": {},
   "outputs": [
    {
     "name": "stderr",
     "output_type": "stream",
     "text": [
      "/Users/Andrew/jupyter/anaconda3/lib/python3.8/site-packages/tensorflow/python/keras/engine/training.py:1877: UserWarning: `Model.evaluate_generator` is deprecated and will be removed in a future version. Please use `Model.evaluate`, which supports generators.\n",
      "  warnings.warn('`Model.evaluate_generator` is deprecated and '\n"
     ]
    },
    {
     "data": {
      "text/plain": [
       "[0.11113544553518295, 0.9927667379379272]"
      ]
     },
     "execution_count": 14,
     "metadata": {},
     "output_type": "execute_result"
    }
   ],
   "source": [
    "model.evaluate_generator(train)"
   ]
  },
  {
   "cell_type": "code",
   "execution_count": 49,
   "metadata": {},
   "outputs": [
    {
     "name": "stdout",
     "output_type": "stream",
     "text": [
      "Found 1 images belonging to 1 classes.\n"
     ]
    }
   ],
   "source": [
    "test_path = \"Test\"\n",
    "test = train_datagen.flow_from_directory(test_path,\n",
    "                                          class_mode=\"binary\",\n",
    "                                          target_size=(96, 96),\n",
    "                                          batch_size=32)"
   ]
  },
  {
   "cell_type": "code",
   "execution_count": 64,
   "metadata": {},
   "outputs": [],
   "source": [
    "var = model.predict(test)"
   ]
  },
  {
   "cell_type": "code",
   "execution_count": 44,
   "metadata": {},
   "outputs": [
    {
     "data": {
      "text/plain": [
       "numpy.ndarray"
      ]
     },
     "execution_count": 44,
     "metadata": {},
     "output_type": "execute_result"
    }
   ],
   "source": [
    "type(var)"
   ]
  },
  {
   "cell_type": "code",
   "execution_count": 65,
   "metadata": {},
   "outputs": [
    {
     "name": "stdout",
     "output_type": "stream",
     "text": [
      "[[0.11856054 0.88143945]]\n"
     ]
    }
   ],
   "source": [
    "print(var)"
   ]
  },
  {
   "cell_type": "code",
   "execution_count": 19,
   "metadata": {},
   "outputs": [],
   "source": []
  },
  {
   "cell_type": "code",
   "execution_count": 61,
   "metadata": {},
   "outputs": [],
   "source": [
    "model = keras.models.load_model(\"model.h5\")"
   ]
  },
  {
   "cell_type": "code",
   "execution_count": 66,
   "metadata": {},
   "outputs": [],
   "source": [
    "res = np.argmax(var, axis = 1)"
   ]
  },
  {
   "cell_type": "code",
   "execution_count": 63,
   "metadata": {},
   "outputs": [
    {
     "data": {
      "text/plain": [
       "numpy.ndarray"
      ]
     },
     "execution_count": 63,
     "metadata": {},
     "output_type": "execute_result"
    }
   ],
   "source": [
    "type(res)"
   ]
  },
  {
   "cell_type": "code",
   "execution_count": 67,
   "metadata": {},
   "outputs": [
    {
     "name": "stdout",
     "output_type": "stream",
     "text": [
      "Povtorka\n"
     ]
    }
   ],
   "source": [
    "if res == 0:\n",
    "    print('Survived')\n",
    "else:\n",
    "    print('Povtorka')"
   ]
  },
  {
   "cell_type": "code",
   "execution_count": null,
   "metadata": {},
   "outputs": [],
   "source": []
  }
 ],
 "metadata": {
  "kernelspec": {
   "display_name": "Python 3",
   "language": "python",
   "name": "python3"
  },
  "language_info": {
   "codemirror_mode": {
    "name": "ipython",
    "version": 3
   },
   "file_extension": ".py",
   "mimetype": "text/x-python",
   "name": "python",
   "nbconvert_exporter": "python",
   "pygments_lexer": "ipython3",
   "version": "3.8.5"
  }
 },
 "nbformat": 4,
 "nbformat_minor": 5
}
